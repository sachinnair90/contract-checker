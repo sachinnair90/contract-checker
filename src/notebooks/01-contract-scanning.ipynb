{
 "cells": [
  {
   "cell_type": "markdown",
   "id": "acb40c09",
   "metadata": {},
   "source": [
    "# Contract scanning\n",
    "\n",
    "This notebook contains experiments to scan contracts for content integrity check."
   ]
  },
  {
   "cell_type": "code",
   "execution_count": null,
   "id": "b4bfb6bc",
   "metadata": {},
   "outputs": [],
   "source": [
    "import os\n",
    "from dotenv import load_dotenv"
   ]
  },
  {
   "cell_type": "code",
   "execution_count": null,
   "id": "3d19d151",
   "metadata": {},
   "outputs": [],
   "source": [
    "load_dotenv()"
   ]
  },
  {
   "cell_type": "code",
   "execution_count": null,
   "id": "b92d6c67",
   "metadata": {},
   "outputs": [],
   "source": [
    "pdf_path = \"../../data/contracts/Contract291936Van_Gobbel.pdf\""
   ]
  },
  {
   "cell_type": "code",
   "execution_count": null,
   "id": "1ed8639c",
   "metadata": {},
   "outputs": [],
   "source": [
    "import torch\n",
    "\n",
    "print(f\"PyTorch version: {torch.__version__}\")\n",
    "\n",
    "if torch.cuda.is_available():\n",
    "    print(f\"CUDA is available. Using GPU: {torch.cuda.get_device_name(0)}: {torch.cuda.device_count()} GPU(s)\")\n",
    "else:\n",
    "    print(\"CUDA is not available. Using CPU.\")\n",
    "    print(f\"{torch.cpu.device_count()} CPU core(s) available\")"
   ]
  },
  {
   "cell_type": "code",
   "execution_count": null,
   "id": "28fdcea5",
   "metadata": {},
   "outputs": [],
   "source": [
    "from pathlib import Path\n",
    "from docling.document_converter import DocumentConverter\n",
    "\n",
    "converter = DocumentConverter() "
   ]
  },
  {
   "cell_type": "code",
   "execution_count": null,
   "id": "58a85b6a",
   "metadata": {},
   "outputs": [],
   "source": [
    "from docling.datamodel.accelerator_options import AcceleratorDevice, AcceleratorOptions\n",
    "from docling.datamodel.base_models import InputFormat\n",
    "from docling.datamodel.pipeline_options import (\n",
    "    PdfPipelineOptions,\n",
    ")\n",
    "from docling.datamodel.settings import settings\n",
    "from docling.document_converter import DocumentConverter, PdfFormatOption\n",
    "\n",
    "# Explicitly set the accelerator options\n",
    "accelerator_options = AcceleratorOptions(\n",
    "    num_threads=8, device=AcceleratorDevice.CUDA\n",
    ")\n",
    "\n",
    "pipeline_options = PdfPipelineOptions()\n",
    "pipeline_options.accelerator_options = accelerator_options\n",
    "pipeline_options.do_ocr = False\n",
    "pipeline_options.do_table_structure = True\n",
    "pipeline_options.table_structure_options.do_cell_matching = True\n",
    "\n",
    "converter = DocumentConverter(\n",
    "    format_options={\n",
    "        InputFormat.PDF: PdfFormatOption(\n",
    "            pipeline_options=pipeline_options,\n",
    "        )\n",
    "    }\n",
    ")"
   ]
  },
  {
   "cell_type": "code",
   "execution_count": null,
   "id": "3df05e4f",
   "metadata": {},
   "outputs": [],
   "source": [
    "# Convert the document\n",
    "conversion_result = converter.convert(pdf_path)"
   ]
  },
  {
   "cell_type": "code",
   "execution_count": null,
   "id": "59b02b30",
   "metadata": {},
   "outputs": [],
   "source": [
    "output_dir = Path(\"outputs/01-contract-scanning\")\n",
    "output_dir.mkdir(parents=True, exist_ok=True)\n",
    "\n",
    "doc_filename = conversion_result.input.file.stem"
   ]
  },
  {
   "cell_type": "code",
   "execution_count": null,
   "id": "cac21c55",
   "metadata": {},
   "outputs": [],
   "source": [
    "print(f\"Document has {len(conversion_result.document.pages)} pages and {len(conversion_result.document.tables)} tables.\")\n",
    "print(f\"Document text content:\\n{conversion_result.document.export_to_markdown()}...\")"
   ]
  }
 ],
 "metadata": {
  "kernelspec": {
   "display_name": "contract-checker",
   "language": "python",
   "name": "python3"
  },
  "language_info": {
   "codemirror_mode": {
    "name": "ipython",
    "version": 3
   },
   "file_extension": ".py",
   "mimetype": "text/x-python",
   "name": "python",
   "nbconvert_exporter": "python",
   "pygments_lexer": "ipython3",
   "version": "3.13.3"
  }
 },
 "nbformat": 4,
 "nbformat_minor": 5
}
